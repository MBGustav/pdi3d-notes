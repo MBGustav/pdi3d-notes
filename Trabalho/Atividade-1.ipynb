{
 "cells": [
  {
   "cell_type": "markdown",
   "metadata": {},
   "source": [
    "# TRABALHO PRÁTICO -- PROCESSAMENTO DE IMAGENS DIGITAIS\n",
    "|**Participantes**|**RA**|\n",
    "|-|-|\n",
    "|Gustavo M. Barreto|790832|\n",
    "\n"
   ]
  },
  {
   "cell_type": "markdown",
   "metadata": {},
   "source": [
    "## ATIVIDADE 1.0:\n",
    "\n",
    "Quantificação volumétrica das substâncias branca (WM), cinzenta (GM) e líquido cefalorraquidiano (CSF) do cérebro humano em imagens de Ressonância Magnética (MR), utilizando segmentação não supervisionada (K-Médias) e atlas probabilísticos dos tecidos cerebrais."
   ]
  },
  {
   "cell_type": "code",
   "execution_count": 174,
   "metadata": {},
   "outputs": [],
   "source": [
    "# Instalacao de Pacotes e ambiente\n",
    "#!python3 -m venv pdi_env\n",
    "#source pdi_env/bin/activate\n",
    "#!python3 -m pip install -r requirements.txt\n",
    "!python3 -m pip freeze > requirements.txt\n"
   ]
  },
  {
   "cell_type": "code",
   "execution_count": null,
   "metadata": {},
   "outputs": [],
   "source": [
    "import numpy as np\n",
    "import nibabel as nib\n",
    "import SimpleITK as sitk\n",
    "import itkwidgets, os\n",
    "import matplotlib.pyplot as plt\n",
    "from skimage.restoration import denoise_nl_means, estimate_sigma\n",
    "\n",
    "#importando funcoes miscelania -- apresentacao de cortes e outros\n",
    "from jupyter_misc import *\n"
   ]
  },
  {
   "cell_type": "markdown",
   "metadata": {},
   "source": [
    "# 1. Analise Geral das Imagens:\n",
    "Observamos os tamanhos de voxels e espaçamento de imagem, permitindo observar caso haja a necessidade do uso de interpolações de acordo com o tamanho de imagem. \n",
    "\n"
   ]
  },
  {
   "cell_type": "code",
   "execution_count": 166,
   "metadata": {},
   "outputs": [
    {
     "name": "stdout",
     "output_type": "stream",
     "text": [
      ".: Dados sobre as mascaras :. \n",
      "Size(total voxels):      (256, 256, 256)\n",
      "Spacing(between voxels): (1.0, 1.0, 1.0)\n",
      "Width, Height and Depth: 256 x 256 x 256\n",
      "Dimension:               3\n",
      "----------------------------\n",
      "Size(total voxels):      (256, 256, 256)\n",
      "Spacing(between voxels): (1.0, 1.0, 1.0)\n",
      "Width, Height and Depth: 256 x 256 x 256\n",
      "Dimension:               3\n",
      "----------------------------\n",
      "Size(total voxels):      (256, 256, 256)\n",
      "Spacing(between voxels): (1.0, 1.0, 1.0)\n",
      "Width, Height and Depth: 256 x 256 x 256\n",
      "Dimension:               3\n",
      "----------------------------\n",
      "Size(total voxels):      (256, 256, 256)\n",
      "Spacing(between voxels): (1.0, 1.0, 1.0)\n",
      "Width, Height and Depth: 256 x 256 x 256\n",
      "Dimension:               3\n",
      "----------------------------\n",
      ".: Dados sobre a imagem referencia :. \n",
      "Size(total voxels):      (256, 256, 256)\n",
      "Spacing(between voxels): (1.0, 1.0, 1.0)\n",
      "Width, Height and Depth: 256 x 256 x 256\n",
      "Dimension:               3\n",
      "----------------------------\n"
     ]
    }
   ],
   "source": [
    "ATLAS_DIR   = 'Atlas'\n",
    "ref_image = 'mni_ref.nii.gz'\n",
    "\n",
    "masks  = os.listdir(ATLAS_DIR)\n",
    "masks.remove('mni_ref.nii.gz')\n",
    "\n",
    "#encadeia todas as mascaras em uma lista\n",
    "atlas = [sitk.ReadImage(f\"{ATLAS_DIR}/{mask}\") for mask in masks]\n",
    "\n",
    "ref   = sitk.ReadImage(f\"{ATLAS_DIR}/{ref_image}\")\n",
    "\n",
    "print(\".: Dados sobre as mascaras :. \")\n",
    "images_info(atlas)\n",
    "\n",
    "print(\".: Dados sobre a imagem referencia :. \")\n",
    "images_info([ref])\n",
    "\n"
   ]
  },
  {
   "cell_type": "markdown",
   "metadata": {},
   "source": [
    "## 1.1 Redução de ruído de Imagens(denoising)\n",
    "A redução de ruído deve ser realizada de forma cautelosa, visto a possibilidade de comprometimento de informações importantes dentro de uma imagem. Dessa forma, avaliaremos diferentes tipos de filtragens de ruído, das quais: \n",
    "- Filtro de Bilateral;\n",
    "- Filtro de Difusão Anisotrópica ;\n",
    "- Filtro de Média Não-Local; \n",
    "\n",
    "Seus detalhes serão discutidos em cada seção, separadamente.\n"
   ]
  },
  {
   "cell_type": "markdown",
   "metadata": {},
   "source": [
    "### a) Filtro Bilateral\n",
    "O filtro Bilateral tem como definição uma média ponderada de pixels vizinhos, de forma muito similar ao caso de Convolução Gaussiana. Sua diferença permeia sobre considerar a preservação de suas bordas. Formalmente:\n",
    "\n",
    "$$\n",
    "I = \\dfrac{1}{W_p} = \\sum G_s(||p-q||) G_\\theta(|I_p - I_q) I_q\n",
    "$$\n",
    "\n",
    "Por sua vez, este filtro tem por objetivo normalizar intervalos de imagem mas também considerando a questão de desníveis abruptos na imagem, pois desníveis na imagem também são levados em consideração na imagem de entrada. \n",
    "\n",
    "\n",
    "<img src='img/bf.png'>\n",
    "\n"
   ]
  },
  {
   "cell_type": "markdown",
   "metadata": {},
   "source": [
    "### Programação do Filtro Bilateral - Sitk"
   ]
  },
  {
   "cell_type": "code",
   "execution_count": null,
   "metadata": {},
   "outputs": [],
   "source": [
    "def bilateral_filter(image, domain_sigma, range_sigma):\n",
    "    b_filter = sitk.BilateralImageFilter()\n",
    "    b_filter.SetDomainSigma(domain_sigma)\n",
    "    b_filter.SetRangeSigma(range_sigma)\n",
    "    return b_filter.Execute(image)\n"
   ]
  },
  {
   "cell_type": "markdown",
   "metadata": {},
   "source": [
    "### b) Filtro de Difusão Anisotrópica\n",
    "\n"
   ]
  },
  {
   "cell_type": "markdown",
   "metadata": {},
   "source": [
    "### Programação do Filtro de Difusão Anisotrópica - Sitk"
   ]
  },
  {
   "cell_type": "code",
   "execution_count": null,
   "metadata": {},
   "outputs": [],
   "source": [
    "def apply_anisotropic_diffusion(image, time_step, conductance, iterations):\n",
    "    \"\"\"\n",
    "    Apply a 3D anisotropic diffusion filter to a 3D image using SimpleITK.\n",
    "    \n",
    "    Parameters:\n",
    "    - image (itk Image): Path to the input 3D image.\n",
    "    - time_step (float): The time step for the diffusion process.\n",
    "    - conductance (float): The conductance parameter for the diffusion process.\n",
    "    - iterations (int): Number of iterations for the diffusion process.\n",
    "    -return: filtered image.\n",
    "    \"\"\"\n",
    "        \n",
    "    # Cast the image to a supported pixel type (float32)\n",
    "    image = sitk.Cast(image, sitk.sitkFloat32)\n",
    "    \n",
    "    # Apply Anisotropic Diffusion filter\n",
    "    anisotropic_diffusion_filter = sitk.CurvatureAnisotropicDiffusionImageFilter()\n",
    "    anisotropic_diffusion_filter.SetTimeStep(time_step)\n",
    "    anisotropic_diffusion_filter.SetConductanceParameter(conductance)\n",
    "    anisotropic_diffusion_filter.SetNumberOfIterations(iterations)\n",
    "    return anisotropic_diffusion_filter.Execute(image)\n",
    "    \n"
   ]
  },
  {
   "cell_type": "markdown",
   "metadata": {},
   "source": [
    "### c) Filtro de Média Não-Local(Non-Local Means):\n",
    "\n",
    "Este filtro baseia-se no conceito de substituir cores de voxel com base em uma média de voxels similares. Entretanto, seus valores não necessáriamente estão próximos. Em suma, usa-se diferentes regiões da imagem para redução do ruído. Em vez de considerar os vizinhos para suavização, este filtro compara pontos espicíficos da imagem, levando em conta a similaridade de textura e estrutura para suavização."
   ]
  },
  {
   "cell_type": "markdown",
   "metadata": {},
   "source": [
    "### Programação do Filtro de Non-Local Means - Sitk"
   ]
  },
  {
   "cell_type": "code",
   "execution_count": null,
   "metadata": {},
   "outputs": [],
   "source": [
    "def apply_nonlocal_means_skimage(image_path, patch_size, patch_distance, h, fast_mode, output_path):\n",
    "    \"\"\"\n",
    "    Apply a 3D Non-Local Means filter to a 3D image using scikit-image.\n",
    "    \n",
    "    Parameters:\n",
    "    - image_path (str): Path to the input 3D image.\n",
    "    - patch_size (int): The size of the patches used for denoising.\n",
    "    - patch_distance (int): The distance for the neighborhood search.\n",
    "    - h (float): The filtering parameter.\n",
    "    - fast_mode (bool): Whether to use the fast mode or not.\n",
    "    - output_path (str): Path to save the filtered image.\n",
    "    \"\"\"\n",
    "    # Load the image\n",
    "    image = nib.load(image_path)\n",
    "    image_data = image.get_fdata()\n",
    "    \n",
    "    # Estimate the noise standard deviation from the noisy image\n",
    "    sigma_est = np.mean(estimate_sigma(image_data))\n",
    "    \n",
    "    # Apply Non-Local Means filter\n",
    "    denoised_image = denoise_nl_means(image_data, patch_size=patch_size, patch_distance=patch_distance, h=h*sigma_est, fast_mode=fast_mode)\n",
    "    \n",
    "    # Save the filtered image\n",
    "    denoised_image_nib = nib.Nifti1Image(denoised_image, image.affine)"
   ]
  },
  {
   "cell_type": "code",
   "execution_count": null,
   "metadata": {},
   "outputs": [],
   "source": [
    "def volume_by_masking(reference_image, mask_img, label=None):\n",
    "    \n",
    "    #masked = sitk.BinaryThreshold(mask_img, lowerThreshold=0.1, upperThreshold=1e6, insideValue=1, outsideValue=0)\n",
    "    mask_array = sitk.GetArrayFromImage(mask_img)\n",
    "    \n",
    "    #Abertura do array da imagem de referencia\n",
    "    ref_array = sitk.GetArrayFromImage(reference_image)\n",
    "    \n",
    "    #Obtemos maximos e minimos -- mascara e img reference\n",
    "    min_mask, max_mask = np.min(mask_array), np.max(mask_array)\n",
    "    min_ref, max_ref = np.min(ref_array), np.max(ref_array)\n",
    "\n",
    "    #normalizacao -- mascara e referencia\n",
    "    norm_mask = (mask_array - min_mask) /(max_mask - min_mask)\n",
    "    ref_array =  min_ref + (ref_array ) /(max_ref - min_ref)\n",
    "\n",
    "    # Obtemos volume de um voxel(produto interno):\n",
    "    voxel_vol = np.prod(reference_image.GetSpacing())\n",
    "    \n",
    "    # Multiplicacao ponto a ponto (pertence a mask), seguido do volume do voxel (cm3)\n",
    "    total_vol = np.sum(mask_array * norm_mask) * voxel_vol \n",
    "\n",
    "    # Calculamos incerteza da mascara, pois norm_mask [0, 1]\n",
    "    var = np.var(norm_mask)\n",
    "    erro_estimado = np.sqrt(var) * voxel_vol \n",
    "\n",
    "    if label is None:\n",
    "        label = \"No Ref.\"\n",
    "\n",
    "    return {label: (float(total_vol), float(erro_estimado))}\n",
    "\n",
    "\n"
   ]
  },
  {
   "cell_type": "code",
   "execution_count": 171,
   "metadata": {},
   "outputs": [
    {
     "name": "stdout",
     "output_type": "stream",
     "text": [
      " Resultados de Volume Ponderado \n",
      "Máscara 1 - mni_csf.nii.gz:\n",
      "  Volume Total: 72774.66 mm³\n",
      "  Erro Estimado: ±0.06 mm³\n",
      "----------------------------------------\n",
      "Máscara 2 - mni_wm.nii.gz:\n",
      "  Volume Total: 429188.18 mm³\n",
      "  Erro Estimado: ±0.15 mm³\n",
      "----------------------------------------\n",
      "Máscara 3 - mni_gm.nii.gz:\n",
      "  Volume Total: 629434.58 mm³\n",
      "  Erro Estimado: ±0.18 mm³\n",
      "----------------------------------------\n",
      "Máscara 4 - mni_mask.nii.gz:\n",
      "  Volume Total: 1374825.62 mm³\n",
      "  Erro Estimado: ±0.20 mm³\n",
      "----------------------------------------\n"
     ]
    }
   ],
   "source": [
    "results = []\n",
    "for i in range(len(masks)):\n",
    "    result = volume_by_masking(ref, atlas[i], masks[i])\n",
    "    results.append(result)\n",
    "\n",
    "print(\" Resultados de Volume Ponderado \")\n",
    "for idx, result in enumerate(results):\n",
    "    for label, (volume, erro) in result.items():\n",
    "        print(f\"Máscara {idx + 1} - {label}:\")\n",
    "        print(f\"  Volume Total: {volume:.2f} mm³\")\n",
    "        print(f\"  Erro Estimado: ±{erro:.2f} mm³\")\n",
    "        print(\"-\" * 40)\n",
    "\n"
   ]
  },
  {
   "cell_type": "markdown",
   "metadata": {},
   "source": [
    "# REFERENCIAS\n",
    "[1] [Bilateral Filtering: Theory and Applications](https://sites.units.it/ramponi/teaching/DIP/DIPmaterials/z08_Bilateral_filter.pdf)\n",
    "\n",
    "[2] [Non-Local Means Denoising](https://www.ipol.im/pub/art/2011/bcm_nlm/article.pdf)\n",
    "\n",
    "[3] []()\n",
    "\n",
    "[4] []()\n",
    "\n",
    "[5] []()\n",
    "\n",
    "[6] []()\n",
    "\n",
    "[7] []()"
   ]
  }
 ],
 "metadata": {
  "kernelspec": {
   "display_name": "env_pdi",
   "language": "python",
   "name": "python3"
  },
  "language_info": {
   "codemirror_mode": {
    "name": "ipython",
    "version": 3
   },
   "file_extension": ".py",
   "mimetype": "text/x-python",
   "name": "python",
   "nbconvert_exporter": "python",
   "pygments_lexer": "ipython3",
   "version": "3.9.13"
  }
 },
 "nbformat": 4,
 "nbformat_minor": 2
}
